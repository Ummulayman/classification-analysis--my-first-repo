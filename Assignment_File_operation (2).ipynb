{
 "cells": [
  {
   "cell_type": "code",
   "execution_count": 20,
   "id": "7b326439-ce7a-467f-b095-0229bf44db48",
   "metadata": {},
   "outputs": [],
   "source": [
    "# Creating a \"sallah_guest\" python file\n",
    "# open a file named \"sallah_guest.txt\"(\"Filename\", \"Mode\")\n",
    "# writing a file \"w\"\n",
    "\n",
    "file_1 = open(\"sallah_guest.txt\", \"w\")\n",
    "file_1.write(\"Asiya: || Manchester || 27 || +987645798876\\n\")\n",
    "file_1.write(\"Khadija: Vietnam || 30 || +765439887\\n\")\n",
    "file_1.write(\"Halima: Canada || 20 || +674579809\\n\")\n",
    "file_1.write(\"Ummulayman: Paris || 30 || +873673298\\n\")\n",
    "file_1.write(\"Fatima: Germany || 20 || +89376328921\\n\")\n",
    "file_1.write(\"Bashir: Calgary || 36 || +6732843097\\n\")\n",
    "file_1.write(\"Khalil: China || +63280978\\n\")\n",
    "file_1.write(\"Nawaf: Cairo || 5 || +876439821689\\n\")\n",
    "file_1.write(\"Sadeeq: Dorawa || 16 || +3243657687989\\n\")\n",
    "file_1.write(\"Jidda: Unguwa_Uku || 2 || +75387253289\\n\")             \n",
    "file_1.close()"
   ]
  },
  {
   "cell_type": "code",
   "execution_count": 9,
   "id": "3b7e3aba-eaf2-4452-bf04-7dc3878a3fec",
   "metadata": {},
   "outputs": [
    {
     "name": "stdout",
     "output_type": "stream",
     "text": [
      "Asiya: || Manchester || 27 || +987645798876\n",
      "Khadija: Vietnam || 30 || +765439887\n",
      "Halima: Canada || 20 || +674579809\n",
      "Ummulayman: Paris || 30 || +873673298\n",
      "Fatima: Germany || 20 || +89376328921\n",
      "Bashir: Calgary || 36 || +6732843097\n",
      "Khalil: China || +63280978\n",
      "Nawaf: Cairo || 5 || +876439821689\n",
      "Sadeeq: Dorawa || 16 || +3243657687989\n",
      "Jidda: Unguwa_Uku || 2 || +75387253289\n",
      "\n"
     ]
    }
   ],
   "source": [
    "# Reading file_1 \"r\"\n",
    "file_1 = open(\"sallah_guest.txt\", \"r\")\n",
    "print(file_1.read())\n",
    "file_1.close()"
   ]
  },
  {
   "cell_type": "code",
   "execution_count": 5,
   "id": "be5e6b22-51bd-41a2-a64f-6c30dba80a6c",
   "metadata": {},
   "outputs": [
    {
     "name": "stdout",
     "output_type": "stream",
     "text": [
      "Asiya: || Manchester || 27 || +987645798876\n",
      "\n"
     ]
    }
   ],
   "source": [
    "file_1 = open(\"sallah_guest.txt\", \"r\")\n",
    "print(file_1.readline())\n",
    "file_1.close()"
   ]
  },
  {
   "cell_type": "code",
   "execution_count": 10,
   "id": "8c394a2f-987b-4ca3-a9dd-39fcef91eff1",
   "metadata": {},
   "outputs": [
    {
     "name": "stdout",
     "output_type": "stream",
     "text": [
      "['Asiya: || Manchester || 27 || +987645798876\\n', 'Khadija: Vietnam || 30 || +765439887\\n', 'Halima: Canada || 20 || +674579809\\n', 'Ummulayman: Paris || 30 || +873673298\\n', 'Fatima: Germany || 20 || +89376328921\\n', 'Bashir: Calgary || 36 || +6732843097\\n', 'Khalil: China || +63280978\\n', 'Nawaf: Cairo || 5 || +876439821689\\n', 'Sadeeq: Dorawa || 16 || +3243657687989\\n', 'Jidda: Unguwa_Uku || 2 || +75387253289\\n']\n"
     ]
    }
   ],
   "source": [
    "file_1 = open(\"sallah_guest.txt\", \"r\")\n",
    "print(file_1.readlines())\n",
    "file_1.close()"
   ]
  },
  {
   "cell_type": "code",
   "execution_count": 7,
   "id": "01d0adc9-a718-4d4f-8547-2e1c2e0a05cb",
   "metadata": {},
   "outputs": [
    {
     "name": "stdout",
     "output_type": "stream",
     "text": [
      "Asiya: || Manchester || 27 || +987645798876\n",
      "\n",
      "Khadija: Vietnam || 30 || +765439887\n",
      "\n",
      "Halima: Canada || 20 || +674579809\n",
      "\n",
      "Ummulayman: Paris || 30 || +873673298\n",
      "\n",
      "Fatima: Germany || 20 || +89376328921\n",
      "\n",
      "Bashir: Calgary || 36 || +6732843097\n",
      "\n",
      "Khalil: China || +63280978\n",
      "\n",
      "Nawaf: Cairo || 5 || +876439821689\n",
      "\n",
      "Sadeeq: Dorawa || 16 || +3243657687989\n",
      "\n",
      "Jidda: Unguwa_Uku || 2 || +75387253289\n",
      "\n"
     ]
    }
   ],
   "source": [
    "file_1 = open(\"sallah_guest.txt\", \"r\")\n",
    "file_2 = file_1.readlines()\n",
    "for item in file_2:\n",
    "    print(item)"
   ]
  },
  {
   "cell_type": "code",
   "execution_count": 15,
   "id": "cb8cce20-90dc-45d9-941d-f93d61740284",
   "metadata": {},
   "outputs": [],
   "source": [
    "# updating file \"a\"\n",
    "file_1 = open(\"sallah_guest.txt\", \"a\")\n",
    "file_1.write(\"Zainab: Maldives || 29 || +4658798098\")\n",
    "file_1.close()"
   ]
  },
  {
   "cell_type": "code",
   "execution_count": 17,
   "id": "a927dd9f-3b2e-459a-be17-b41fcbe440a3",
   "metadata": {},
   "outputs": [
    {
     "name": "stdout",
     "output_type": "stream",
     "text": [
      "Asiya: || Manchester || 27 || +987645798876\n",
      "Khadija: Vietnam || 30 || +765439887\n",
      "Halima: Canada || 20 || +674579809\n",
      "Ummulayman: Paris || 30 || +873673298\n",
      "Fatima: Germany || 20 || +89376328921\n",
      "Bashir: Calgary || 36 || +6732843097\n",
      "Khalil: China || +63280978\n",
      "Nawaf: Cairo || 5 || +876439821689\n",
      "Sadeeq: Dorawa || 16 || +3243657687989\n",
      "Jidda: Unguwa_Uku || 2 || +75387253289\n",
      "Zainab: Maldives || 29 || +4658798098\n"
     ]
    }
   ],
   "source": [
    "file_1 = open(\"sallah_guest.txt\", \"r\")\n",
    "print(file_1.read())\n",
    "file_1.close()"
   ]
  },
  {
   "cell_type": "code",
   "execution_count": 18,
   "id": "ba674a79-e455-4366-851a-f418e22e4547",
   "metadata": {},
   "outputs": [
    {
     "name": "stdout",
     "output_type": "stream",
     "text": [
      "(1, 'Asiya: || Manchester || 27 || +987645798876\\n')\n",
      "(2, 'Khadija: Vietnam || 30 || +765439887\\n')\n",
      "(3, 'Halima: Canada || 20 || +674579809\\n')\n",
      "(4, 'Ummulayman: Paris || 30 || +873673298\\n')\n",
      "(5, 'Fatima: Germany || 20 || +89376328921\\n')\n",
      "(6, 'Bashir: Calgary || 36 || +6732843097\\n')\n",
      "(7, 'Khalil: China || +63280978\\n')\n",
      "(8, 'Nawaf: Cairo || 5 || +876439821689\\n')\n",
      "(9, 'Sadeeq: Dorawa || 16 || +3243657687989\\n')\n",
      "(10, 'Jidda: Unguwa_Uku || 2 || +75387253289\\n')\n",
      "(11, 'Zainab: Maldives || 29 || +4658798098')\n"
     ]
    }
   ],
   "source": [
    "file_1 = open(\"sallah_guest.txt\", \"r\")\n",
    "file_2 = file_1.readlines()\n",
    "for item in enumerate(file_2, start = 1):\n",
    "    print(item)"
   ]
  },
  {
   "cell_type": "code",
   "execution_count": null,
   "id": "15076fe8-7ca7-4a8a-8aa5-a5feed5f88dc",
   "metadata": {},
   "outputs": [],
   "source": []
  },
  {
   "cell_type": "code",
   "execution_count": null,
   "id": "1e10119c-8c94-4247-9673-6bb141682f31",
   "metadata": {},
   "outputs": [],
   "source": []
  },
  {
   "cell_type": "code",
   "execution_count": null,
   "id": "f0aeea2f-78b7-47fb-b123-2d1cef2dca50",
   "metadata": {},
   "outputs": [],
   "source": []
  },
  {
   "cell_type": "code",
   "execution_count": null,
   "id": "6df9624f-920e-45c5-82cb-cb08f1780632",
   "metadata": {},
   "outputs": [],
   "source": []
  }
 ],
 "metadata": {
  "kernelspec": {
   "display_name": "Python 3 (ipykernel)",
   "language": "python",
   "name": "python3"
  },
  "language_info": {
   "codemirror_mode": {
    "name": "ipython",
    "version": 3
   },
   "file_extension": ".py",
   "mimetype": "text/x-python",
   "name": "python",
   "nbconvert_exporter": "python",
   "pygments_lexer": "ipython3",
   "version": "3.12.7"
  }
 },
 "nbformat": 4,
 "nbformat_minor": 5
}
